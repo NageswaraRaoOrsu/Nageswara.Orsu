{
 "cells": [
  {
   "cell_type": "markdown",
   "metadata": {},
   "source": [
    "#  Covid 19 Data - Analysis in India\n",
    "Coronaviruses are a large family of viruses which may cause illness in animals or humans. In humans, several coronaviruses are known to cause respiratory infections ranging from the common cold to more severe diseases such as Middle East Respiratory Syndrome (MERS) and Severe Acute Respiratory Syndrome (SARS). The most recently discovered coronavirus causes coronavirus disease COVID-19 - World Health Organization\n",
    "\n",
    "The number of new cases are increasing day by day around the world. This dataset has information from the states and union territories of India at daily level.\n",
    "\n",
    "State level data comes from Ministry of Health & Family Welfare\n",
    "\n",
    "Individual level data comes from covid19india"
   ]
  },
  {
   "cell_type": "code",
   "execution_count": 27,
   "metadata": {},
   "outputs": [],
   "source": [
    "import pyspark\n",
    "from pyspark.sql import SparkSession"
   ]
  },
  {
   "cell_type": "code",
   "execution_count": 28,
   "metadata": {},
   "outputs": [],
   "source": [
    "spark = SparkSession.builder.appName('Spark-DataFrame').getOrCreate()"
   ]
  },
  {
   "cell_type": "code",
   "execution_count": 103,
   "metadata": {},
   "outputs": [
    {
     "data": {
      "text/html": [
       "\n",
       "            <div>\n",
       "                <p><b>SparkSession - in-memory</b></p>\n",
       "                \n",
       "        <div>\n",
       "            <p><b>SparkContext</b></p>\n",
       "\n",
       "            <p><a href=\"http://ip-10-0-1-11.ec2.internal:4042\">Spark UI</a></p>\n",
       "\n",
       "            <dl>\n",
       "              <dt>Version</dt>\n",
       "                <dd><code>v3.0.0</code></dd>\n",
       "              <dt>Master</dt>\n",
       "                <dd><code>local[*]</code></dd>\n",
       "              <dt>AppName</dt>\n",
       "                <dd><code>Spark-DataFrame</code></dd>\n",
       "            </dl>\n",
       "        </div>\n",
       "        \n",
       "            </div>\n",
       "        "
      ],
      "text/plain": [
       "<pyspark.sql.session.SparkSession at 0x7f560a87ba90>"
      ]
     },
     "execution_count": 103,
     "metadata": {},
     "output_type": "execute_result"
    }
   ],
   "source": [
    "spark"
   ]
  },
  {
   "cell_type": "code",
   "execution_count": 107,
   "metadata": {},
   "outputs": [],
   "source": [
    "# Load datasets \n",
    "covidIndia = spark.read.load(\"./India.csv\", format=\"csv\", sep=\",\",index=False, inferSchema=True,timestampFormat=\"dd/MM/yyyy\", header=True)\n"
   ]
  },
  {
   "cell_type": "code",
   "execution_count": 108,
   "metadata": {},
   "outputs": [
    {
     "name": "stdout",
     "output_type": "stream",
     "text": [
      "root\n",
      " |-- Sno: integer (nullable = true)\n",
      " |-- Date: string (nullable = true)\n",
      " |-- Time: string (nullable = true)\n",
      " |-- State: string (nullable = true)\n",
      " |-- ConfirmedIndianNational: string (nullable = true)\n",
      " |-- ConfirmedForeignNational: string (nullable = true)\n",
      " |-- Cured: integer (nullable = true)\n",
      " |-- Deaths: integer (nullable = true)\n",
      " |-- Confirmed: integer (nullable = true)\n",
      "\n"
     ]
    }
   ],
   "source": [
    "# Rename the column State/UnionTerritory to State and print schema\n",
    "covidIndia = covidIndia.withColumnRenamed('State/UnionTerritory', 'State')\n",
    "covidIndia.printSchema()"
   ]
  },
  {
   "cell_type": "code",
   "execution_count": 109,
   "metadata": {},
   "outputs": [
    {
     "name": "stdout",
     "output_type": "stream",
     "text": [
      "+---+--------+-------+------+-----------------------+------------------------+-----+------+---------+\n",
      "|Sno|    Date|   Time| State|ConfirmedIndianNational|ConfirmedForeignNational|Cured|Deaths|Confirmed|\n",
      "+---+--------+-------+------+-----------------------+------------------------+-----+------+---------+\n",
      "|  1|30/01/20|6:00 PM|Kerala|                      1|                       0|    0|     0|        1|\n",
      "|  2|31/01/20|6:00 PM|Kerala|                      1|                       0|    0|     0|        1|\n",
      "|  3|1/2/2020|6:00 PM|Kerala|                      2|                       0|    0|     0|        2|\n",
      "|  4|2/2/2020|6:00 PM|Kerala|                      3|                       0|    0|     0|        3|\n",
      "|  5|3/2/2020|6:00 PM|Kerala|                      3|                       0|    0|     0|        3|\n",
      "|  6|4/2/2020|6:00 PM|Kerala|                      3|                       0|    0|     0|        3|\n",
      "|  7|5/2/2020|6:00 PM|Kerala|                      3|                       0|    0|     0|        3|\n",
      "|  8|6/2/2020|6:00 PM|Kerala|                      3|                       0|    0|     0|        3|\n",
      "|  9|7/2/2020|6:00 PM|Kerala|                      3|                       0|    0|     0|        3|\n",
      "| 10|8/2/2020|6:00 PM|Kerala|                      3|                       0|    0|     0|        3|\n",
      "+---+--------+-------+------+-----------------------+------------------------+-----+------+---------+\n",
      "only showing top 10 rows\n",
      "\n"
     ]
    }
   ],
   "source": [
    "covidIndia.show(10)"
   ]
  },
  {
   "cell_type": "markdown",
   "metadata": {},
   "source": [
    "# find maximin number of cases for a specific date .\n"
   ]
  },
  {
   "cell_type": "code",
   "execution_count": 106,
   "metadata": {},
   "outputs": [],
   "source": [
    "import matplotlib.pyplot as plot"
   ]
  },
  {
   "cell_type": "code",
   "execution_count": 141,
   "metadata": {},
   "outputs": [
    {
     "name": "stdout",
     "output_type": "stream",
     "text": [
      "+-----------+--------------+----------+----------+\n",
      "|DateOfStats|TotalConfirmed|TotalCured|TotalDeath|\n",
      "+-----------+--------------+----------+----------+\n",
      "|  1/10/2020|       4551901|   3872200|     58667|\n",
      "+-----------+--------------+----------+----------+\n",
      "\n"
     ]
    },
    {
     "data": {
      "text/plain": [
       "<BarContainer object of 3 artists>"
      ]
     },
     "execution_count": 141,
     "metadata": {},
     "output_type": "execute_result"
    },
    {
     "data": {
      "image/png": "[encoded data removed]",
      "text/plain": [
       "<Figure size 432x288 with 1 Axes>"
      ]
     },
     "metadata": {
      "needs_background": "light"
     },
     "output_type": "display_data"
    }
   ],
   "source": [
    "#statistics till the date 1st Oct 2020 \n",
    "\n",
    "covidIndia.registerTempTable(\"caseTmpTbl\")\n",
    "analysisDate = spark.sql('select max(Date)as DateOfStats,sum(Confirmed) as TotalConfirmed,sum(Cured) as TotalCured,sum(Deaths) as TotalDeath from caseTmpTbl where Date = \"1/10/2020\"')\n",
    "analysisDate.show()\n",
    "\n",
    "# Data Statistics ploting in the graph\n",
    "analysisDatePD = analysisDate.toPandas()\n",
    "\n",
    "cases = [analysisDatePD.TotalConfirmed, analysisDatePD.TotalDeath, analysisDatePD.TotalCured]\n",
    "plot.title('Patient Details as of 1st Oct 2020')\n",
    "plot.ylabel('Total cases',fontsize=10)\n",
    "plot.xlabel('Date',fontsize=10)\n",
    "plot.bar(\"1/10/2020\", cases,color=['blue','green','yellow'],alpha= 0.35,linewidth=1)"
   ]
  },
  {
   "cell_type": "markdown",
   "metadata": {},
   "source": [
    "# Finding the total Cured , Confirmed and Deaths by state \n",
    "- using groupby on state and finding required sum\n"
   ]
  },
  {
   "cell_type": "code",
   "execution_count": 36,
   "metadata": {},
   "outputs": [],
   "source": [
    "from  pyspark.sql import functions as F"
   ]
  },
  {
   "cell_type": "code",
   "execution_count": 120,
   "metadata": {},
   "outputs": [],
   "source": [
    "covidIndia_State=covidIndia.groupBy(['State']).agg( F.max(\"Date\").alias('AnalysisDate'),F.sum(\"Cured\").alias('Cured'),F.sum('Deaths').alias('Deaths'),F.sum('Confirmed').alias('Confirmed'))"
   ]
  },
  {
   "cell_type": "code",
   "execution_count": 121,
   "metadata": {},
   "outputs": [
    {
     "name": "stdout",
     "output_type": "stream",
     "text": [
      "+--------------------+------------+--------+------+---------+\n",
      "|               State|AnalysisDate|   Cured|Deaths|Confirmed|\n",
      "+--------------------+------------+--------+------+---------+\n",
      "|            Nagaland|    9/9/2020|  204461|   713|   308510|\n",
      "|           Karnataka|    9/9/2020|18565416|423834| 26136997|\n",
      "|              Odisha|    9/9/2020| 6372531| 36326|  8220910|\n",
      "|              Kerala|    9/9/2020| 4367442| 25309|  6548212|\n",
      "|Dadra and Nagar H...|    9/9/2020|  146866|   168|   176124|\n",
      "|              Ladakh|    9/9/2020|  165350|  2118|   234661|\n",
      "|          Tamil Nadu|    9/9/2020|29121775|567374| 35370756|\n",
      "|           Telengana|    9/9/2020| 7039298| 60836|  8966019|\n",
      "|        Chhattisgarh|    9/9/2020| 2197917| 28779|  3545543|\n",
      "|      Andhra Pradesh|    9/9/2020|25155534|286388| 31971735|\n",
      "|      Madhya Pradesh|    9/9/2020| 4530581|144102|  6003257|\n",
      "|              Punjab|    9/9/2020| 3213473|123734|  4422884|\n",
      "|        Telengana***|    29/07/20|   42909|   480|    57142|\n",
      "|             Manipur|    9/9/2020|  355799|  2295|   512208|\n",
      "|         Daman & Diu|   11/6/2020|       0|     0|        2|\n",
      "|Cases being reass...|    9/7/2020|       0|     0|   345565|\n",
      "|                 Goa|    9/9/2020| 1060858| 15342|  1397676|\n",
      "|             Mizoram|    9/9/2020|   52333|     0|    86191|\n",
      "|    Himachal Pradesh|    9/9/2020|  395892|  5306|   579564|\n",
      "|          Puducherry|    9/9/2020|  735842| 18539|  1039801|\n",
      "+--------------------+------------+--------+------+---------+\n",
      "only showing top 20 rows\n",
      "\n"
     ]
    }
   ],
   "source": [
    "covidIndia_State.show()"
   ]
  },
  {
   "cell_type": "code",
   "execution_count": 122,
   "metadata": {},
   "outputs": [
    {
     "name": "stdout",
     "output_type": "stream",
     "text": [
      "root\n",
      " |-- State: string (nullable = true)\n",
      " |-- AnalysisDate: string (nullable = true)\n",
      " |-- Cured: long (nullable = true)\n",
      " |-- Deaths: long (nullable = true)\n",
      " |-- Confirmed: long (nullable = true)\n",
      "\n"
     ]
    }
   ],
   "source": [
    "covidIndia_State.printSchema()"
   ]
  },
  {
   "cell_type": "code",
   "execution_count": 123,
   "metadata": {},
   "outputs": [],
   "source": [
    "# to Plot Graph converting Spark DF to Pandas DF\n",
    "covidIndia_StatePD=(covidIndia_State.toPandas())"
   ]
  },
  {
   "cell_type": "code",
   "execution_count": 42,
   "metadata": {},
   "outputs": [],
   "source": [
    "#Load state province data in datasets\n",
    "covidIndiaState = spark.read.load(\"./covid19_state_data.csv\", format=\"csv\", sep=\",\", inferSchema=True, header=True)"
   ]
  },
  {
   "cell_type": "code",
   "execution_count": 43,
   "metadata": {},
   "outputs": [
    {
     "name": "stdout",
     "output_type": "stream",
     "text": [
      "root\n",
      " |-- Date: string (nullable = true)\n",
      " |-- State: string (nullable = true)\n",
      " |-- TotalSamples: double (nullable = true)\n",
      " |-- Negative: string (nullable = true)\n",
      " |-- Positive: double (nullable = true)\n",
      "\n"
     ]
    }
   ],
   "source": [
    "covidIndiaState.printSchema()"
   ]
  },
  {
   "cell_type": "code",
   "execution_count": 44,
   "metadata": {},
   "outputs": [
    {
     "name": "stdout",
     "output_type": "stream",
     "text": [
      "root\n",
      " |-- Sno: integer (nullable = true)\n",
      " |-- Date: string (nullable = true)\n",
      " |-- Time: string (nullable = true)\n",
      " |-- State: string (nullable = true)\n",
      " |-- ConfirmedIndianNational: string (nullable = true)\n",
      " |-- ConfirmedForeignNational: string (nullable = true)\n",
      " |-- Cured: integer (nullable = true)\n",
      " |-- Deaths: integer (nullable = true)\n",
      " |-- Confirmed: integer (nullable = true)\n",
      "\n"
     ]
    }
   ],
   "source": [
    "covidIndia.printSchema()"
   ]
  },
  {
   "cell_type": "code",
   "execution_count": 124,
   "metadata": {},
   "outputs": [],
   "source": [
    "# Rename the column as Sample_Date  from  Date\n",
    "covidIndiaState=covidIndiaState.withColumnRenamed('Date','Sample_Date')"
   ]
  },
  {
   "cell_type": "code",
   "execution_count": 125,
   "metadata": {},
   "outputs": [
    {
     "name": "stdout",
     "output_type": "stream",
     "text": [
      "+-----------+--------------------+------------+--------+--------+\n",
      "|Sample_Date|               State|TotalSamples|Negative|Positive|\n",
      "+-----------+--------------------+------------+--------+--------+\n",
      "| 2020-04-17|Andaman and Nicob...|      1403.0|    1210|    12.0|\n",
      "| 2020-04-24|Andaman and Nicob...|      2679.0|    null|    27.0|\n",
      "| 2020-04-27|Andaman and Nicob...|      2848.0|    null|    33.0|\n",
      "| 2020-05-01|Andaman and Nicob...|      3754.0|    null|    33.0|\n",
      "| 2020-05-16|Andaman and Nicob...|      6677.0|    null|    33.0|\n",
      "| 2020-05-19|Andaman and Nicob...|      6965.0|    null|    33.0|\n",
      "| 2020-05-20|Andaman and Nicob...|      7082.0|    null|    33.0|\n",
      "| 2020-05-21|Andaman and Nicob...|      7167.0|    null|    33.0|\n",
      "| 2020-05-22|Andaman and Nicob...|      7263.0|    null|    33.0|\n",
      "| 2020-05-23|Andaman and Nicob...|      7327.0|    null|    33.0|\n",
      "| 2020-05-24|Andaman and Nicob...|      7327.0|    null|    33.0|\n",
      "| 2020-05-25|Andaman and Nicob...|      7363.0|    null|    33.0|\n",
      "| 2020-05-26|Andaman and Nicob...|      7448.0|    null|    33.0|\n",
      "| 2020-05-27|Andaman and Nicob...|      7499.0|    null|    33.0|\n",
      "| 2020-05-28|Andaman and Nicob...|      7519.0|    null|    33.0|\n",
      "| 2020-05-29|Andaman and Nicob...|      7567.0|    null|    33.0|\n",
      "| 2020-05-30|Andaman and Nicob...|      7567.0|    null|    33.0|\n",
      "| 2020-05-31|Andaman and Nicob...|      7706.0|    null|    33.0|\n",
      "| 2020-06-01|Andaman and Nicob...|      7805.0|    null|    33.0|\n",
      "| 2020-06-02|Andaman and Nicob...|      8086.0|    null|    33.0|\n",
      "+-----------+--------------------+------------+--------+--------+\n",
      "only showing top 20 rows\n",
      "\n"
     ]
    }
   ],
   "source": [
    "covidIndiaState.show()"
   ]
  },
  {
   "cell_type": "code",
   "execution_count": 128,
   "metadata": {},
   "outputs": [],
   "source": [
    "stateDataCalculation = covidIndiaState.join(covidIndia, ['State'],how='left')\n"
   ]
  },
  {
   "cell_type": "code",
   "execution_count": 129,
   "metadata": {},
   "outputs": [
    {
     "name": "stdout",
     "output_type": "stream",
     "text": [
      "root\n",
      " |-- State: string (nullable = true)\n",
      " |-- Sample_Date: string (nullable = true)\n",
      " |-- TotalSamples: double (nullable = true)\n",
      " |-- Negative: string (nullable = true)\n",
      " |-- Positive: double (nullable = true)\n",
      " |-- Sno: integer (nullable = true)\n",
      " |-- Date: string (nullable = true)\n",
      " |-- Time: string (nullable = true)\n",
      " |-- ConfirmedIndianNational: string (nullable = true)\n",
      " |-- ConfirmedForeignNational: string (nullable = true)\n",
      " |-- Cured: integer (nullable = true)\n",
      " |-- Deaths: integer (nullable = true)\n",
      " |-- Confirmed: integer (nullable = true)\n",
      "\n"
     ]
    }
   ],
   "source": [
    "stateDataCalculation.printSchema()"
   ]
  },
  {
   "cell_type": "code",
   "execution_count": 131,
   "metadata": {},
   "outputs": [
    {
     "name": "stdout",
     "output_type": "stream",
     "text": [
      "+--------------------+-----------+------------+--------+--------+----+---------+----------+-----------------------+------------------------+-----+------+---------+\n",
      "|               State|Sample_Date|TotalSamples|Negative|Positive| Sno|     Date|      Time|ConfirmedIndianNational|ConfirmedForeignNational|Cured|Deaths|Confirmed|\n",
      "+--------------------+-----------+------------+--------+--------+----+---------+----------+-----------------------+------------------------+-----+------+---------+\n",
      "|Andaman and Nicob...| 2020-04-17|      1403.0|    1210|    12.0|7021|10/7/2020|8:00:00 AM|                      -|                       -| 3678|    54|     3912|\n",
      "|Andaman and Nicob...| 2020-04-17|      1403.0|    1210|    12.0|6986|10/6/2020|8:00:00 AM|                      -|                       -| 3659|    54|     3899|\n",
      "|Andaman and Nicob...| 2020-04-17|      1403.0|    1210|    12.0|6951|10/5/2020|8:00:00 AM|                      -|                       -| 3649|    53|     3884|\n",
      "|Andaman and Nicob...| 2020-04-17|      1403.0|    1210|    12.0|6916|10/4/2020|8:00:00 AM|                      -|                       -| 3642|    53|     3868|\n",
      "|Andaman and Nicob...| 2020-04-17|      1403.0|    1210|    12.0|6540|2/10/2020|   8:00 AM|                      -|                       -| 3623|    53|     3848|\n",
      "|Andaman and Nicob...| 2020-04-17|      1403.0|    1210|    12.0|6513|1/10/2020|   8:00 AM|                      -|                       -| 3608|    53|     3835|\n",
      "|Andaman and Nicob...| 2020-04-17|      1403.0|    1210|    12.0|6487| 30/09/20|   8:00 AM|                      -|                       -| 3587|    53|     3821|\n",
      "|Andaman and Nicob...| 2020-04-17|      1403.0|    1210|    12.0|6452| 29/09/20|   8:00 AM|                      -|                       -| 3582|    53|     3803|\n",
      "|Andaman and Nicob...| 2020-04-17|      1403.0|    1210|    12.0|6417| 28/09/20|   8:00 AM|                      -|                       -| 3553|    53|     3794|\n",
      "|Andaman and Nicob...| 2020-04-17|      1403.0|    1210|    12.0|6382| 27/09/20|   8:00 AM|                      -|                       -| 3551|    52|     3774|\n",
      "|Andaman and Nicob...| 2020-04-17|      1403.0|    1210|    12.0|6347| 26/09/20|   8:00 AM|                      -|                       -| 3528|    52|     3759|\n",
      "|Andaman and Nicob...| 2020-04-17|      1403.0|    1210|    12.0|6312| 25/09/20|   8:00 AM|                      -|                       -| 3503|    52|     3744|\n",
      "|Andaman and Nicob...| 2020-04-17|      1403.0|    1210|    12.0|6277| 24/09/20|   8:00 AM|                      -|                       -| 3494|    52|     3712|\n",
      "|Andaman and Nicob...| 2020-04-17|      1403.0|    1210|    12.0|6242| 23/09/20|   8:00 AM|                      -|                       -| 3479|    52|     3691|\n",
      "|Andaman and Nicob...| 2020-04-17|      1403.0|    1210|    12.0|6207| 22/09/20|   8:00 AM|                      -|                       -| 3469|    52|     3673|\n",
      "|Andaman and Nicob...| 2020-04-17|      1403.0|    1210|    12.0|6172| 21/09/20|   8:00 AM|                      -|                       -| 3452|    52|     3651|\n",
      "|Andaman and Nicob...| 2020-04-17|      1403.0|    1210|    12.0|6137| 20/09/20|   8:00 AM|                      -|                       -| 3436|    52|     3644|\n",
      "|Andaman and Nicob...| 2020-04-17|      1403.0|    1210|    12.0|6102| 19/09/20|   8:00 AM|                      -|                       -| 3414|    52|     3631|\n",
      "|Andaman and Nicob...| 2020-04-17|      1403.0|    1210|    12.0|6067| 18/09/20|   8:00 AM|                      -|                       -| 3378|    52|     3604|\n",
      "|Andaman and Nicob...| 2020-04-17|      1403.0|    1210|    12.0|6032| 17/09/20|   8:00 AM|                      -|                       -| 3345|    52|     3593|\n",
      "+--------------------+-----------+------------+--------+--------+----+---------+----------+-----------------------+------------------------+-----+------+---------+\n",
      "only showing top 20 rows\n",
      "\n"
     ]
    }
   ],
   "source": [
    "stateDataCalculation.show()"
   ]
  },
  {
   "cell_type": "code",
   "execution_count": 132,
   "metadata": {},
   "outputs": [
    {
     "name": "stdout",
     "output_type": "stream",
     "text": [
      "+--------------------+-----------+--------+\n",
      "|               State|ToatalCases|MaxCases|\n",
      "+--------------------+-----------+--------+\n",
      "|            Nagaland|   54914780|    6662|\n",
      "|           Karnataka| 4783070451|  657705|\n",
      "|              Odisha| 1512647440|  238003|\n",
      "|              Kerala| 1237612068|  242799|\n",
      "|Dadra and Nagar H...|   26418600|    3103|\n",
      "|              Ladakh|   28393981|    4720|\n",
      "|          Tamil Nadu| 6472848348|  630408|\n",
      "|        Chhattisgarh|  616924482|  128893|\n",
      "|      Andhra Pradesh| 5754912300|  729307|\n",
      "|      Madhya Pradesh| 1104599288|  138668|\n",
      "|              Punjab|  809387772|  120016|\n",
      "|             Manipur|   65050416|   12240|\n",
      "|                 Goa|  244593300|   36238|\n",
      "|             Mizoram|   15083425|    2148|\n",
      "|    Himachal Pradesh|  104321520|   16283|\n",
      "|          Puducherry|  177805971|   29682|\n",
      "|             Haryana| 1110823824|  136115|\n",
      "|   Jammu and Kashmir|  637347336|   80476|\n",
      "|           Jharkhand|  578180058|   88873|\n",
      "|   Arunachal Pradesh|   62080260|   11007|\n",
      "+--------------------+-----------+--------+\n",
      "only showing top 20 rows\n",
      "\n"
     ]
    }
   ],
   "source": [
    " stateDataCalculationPD = stateDataCalculation.groupBy ([\"State\"]).agg(\n",
    "    F.sum(\"Confirmed\").alias(\"ToatalCases\"),\n",
    "    F.max(\"Confirmed\").alias(\"MaxCases\")).show()"
   ]
  },
  {
   "cell_type": "code",
   "execution_count": 70,
   "metadata": {},
   "outputs": [],
   "source": [
    "import matplotlib.pyplot as plot\n",
    "import pandas as pd\n",
    "\n"
   ]
  },
  {
   "cell_type": "code",
   "execution_count": 159,
   "metadata": {},
   "outputs": [
    {
     "name": "stdout",
     "output_type": "stream",
     "text": [
      "+------------+-------------+\n",
      "|AnalysisDate|TotalPositive|\n",
      "+------------+-------------+\n",
      "|   1/10/2020|  6.5011591E7|\n",
      "+------------+-------------+\n",
      "\n"
     ]
    },
    {
     "data": {
      "text/plain": [
       "<BarContainer object of 1 artists>"
      ]
     },
     "execution_count": 159,
     "metadata": {},
     "output_type": "execute_result"
    },
    {
     "data": {
      "image/png": "[encoded data removed]",
      "text/plain": [
       "<Figure size 432x288 with 1 Axes>"
      ]
     },
     "metadata": {
      "needs_background": "light"
     },
     "output_type": "display_data"
    }
   ],
   "source": [
    "#Covid-19 statistics as of 1st Oct 2020\n",
    "\n",
    "stateDataCalculation.registerTempTable(\"StageDataTmpTbl\")\n",
    "TotalcasesbyDate = spark.sql('select max(Date)as AnalysisDate,sum(Positive) as TotalPositive from StageDataTmpTbl where Date = \"1/10/2020\"')\n",
    "TotalcasesbyDate.show()\n",
    "\n",
    "# convert Spark DF to Panda DF to print Graph\n",
    "TotalcasesbyDatesample = TotalcasesbyDate.toPandas()\n",
    "\n",
    "# As i am trying to plot graph for 3 fields on Y axis so saving it as a list\n",
    "# then pass as Y axis parameter to plot values of cured , Deaths and Confirmed patients\n",
    "cases = [TotalcasesbyDatesample.TotalPositive]\n",
    "plot.title('Patient Details as of 1st Oct 2020')\n",
    "plot.ylabel('Total cases',fontsize=10)\n",
    "plot.xlabel('Date',fontsize=10)\n",
    "plot.bar(\"1/10/2020\", cases,color=['green','black','yellow'],alpha= 0.25,linewidth=1)"
   ]
  },
  {
   "cell_type": "code",
   "execution_count": 164,
   "metadata": {},
   "outputs": [
    {
     "name": "stdout",
     "output_type": "stream",
     "text": [
      "+------------+-------------+\n",
      "|AnalysisDate|TotalNegative|\n",
      "+------------+-------------+\n",
      "|   1/10/2020|1.014232299E9|\n",
      "+------------+-------------+\n",
      "\n"
     ]
    },
    {
     "data": {
      "text/plain": [
       "<BarContainer object of 1 artists>"
      ]
     },
     "execution_count": 164,
     "metadata": {},
     "output_type": "execute_result"
    },
    {
     "data": {
      "image/png": "[encoded data removed]",
      "text/plain": [
       "<Figure size 432x288 with 1 Axes>"
      ]
     },
     "metadata": {
      "needs_background": "light"
     },
     "output_type": "display_data"
    }
   ],
   "source": [
    "#Covid-19 statistics as of 1st Oct 2020\n",
    "\n",
    "stateDataCalculation.registerTempTable(\"StageDataTmpTbl\")\n",
    "TotalcasesbyDate = spark.sql('select max(Date)as AnalysisDate,sum(Negative) as TotalNegative from StageDataTmpTbl where Date = \"1/10/2020\"')\n",
    "TotalcasesbyDate.show()\n",
    "\n",
    "# convert Spark DF to Panda DF to print Graph\n",
    "TotalcasesbyDatesample = TotalcasesbyDate.toPandas()\n",
    "\n",
    "# As i am trying to plot graph for 3 fields on Y axis so saving it as a list\n",
    "# then pass as Y axis parameter to plot values of cured , Deaths and Confirmed patients\n",
    "cases = [TotalcasesbyDatesample.TotalNegative]\n",
    "plot.title('Patient Details as of 1st Oct 2020')\n",
    "plot.ylabel('Total cases',fontsize=10)\n",
    "plot.xlabel('Date',fontsize=10)\n",
    "plot.bar(\"1/10/2020\", cases,color=['green','black','yellow'],alpha= 0.25,linewidth=1)"
   ]
  }
 ],
 "metadata": {
  "kernelspec": {
   "display_name": "Python 3",
   "language": "python",
   "name": "python3"
  },
  "language_info": {
   "codemirror_mode": {
    "name": "ipython",
    "version": 3
   },
   "file_extension": ".py",
   "mimetype": "text/x-python",
   "name": "python",
   "nbconvert_exporter": "python",
   "pygments_lexer": "ipython3",
   "version": "3.7.6"
  }
 },
 "nbformat": 4,
 "nbformat_minor": 4
}
